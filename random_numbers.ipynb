{
 "cells": [
  {
   "cell_type": "code",
   "execution_count": 1,
   "id": "58e52e5c",
   "metadata": {},
   "outputs": [],
   "source": [
    "# Import the random module\n",
    "\n",
    "import random"
   ]
  },
  {
   "cell_type": "code",
   "execution_count": 4,
   "id": "531f11b1",
   "metadata": {},
   "outputs": [
    {
     "data": {
      "text/plain": [
       "-32"
      ]
     },
     "execution_count": 4,
     "metadata": {},
     "output_type": "execute_result"
    }
   ],
   "source": [
    "random.randint(-90, 90)"
   ]
  },
  {
   "cell_type": "code",
   "execution_count": 5,
   "id": "88690c37",
   "metadata": {},
   "outputs": [
    {
     "data": {
      "text/plain": [
       "0.9430286709868974"
      ]
     },
     "execution_count": 5,
     "metadata": {},
     "output_type": "execute_result"
    }
   ],
   "source": [
    "random.random()"
   ]
  },
  {
   "cell_type": "code",
   "execution_count": 7,
   "id": "0d03d898",
   "metadata": {},
   "outputs": [],
   "source": [
    "# Import the NumPy module\n",
    "\n",
    "import numpy as np"
   ]
  },
  {
   "cell_type": "code",
   "execution_count": 8,
   "id": "97e923cb",
   "metadata": {},
   "outputs": [
    {
     "data": {
      "text/plain": [
       "47.28305694086785"
      ]
     },
     "execution_count": 8,
     "metadata": {},
     "output_type": "execute_result"
    }
   ],
   "source": [
    "np.random.uniform(-90.000, 90.000)"
   ]
  },
  {
   "cell_type": "code",
   "execution_count": 9,
   "id": "ece9a443",
   "metadata": {},
   "outputs": [
    {
     "data": {
      "text/plain": [
       "array([ 23.53386291,  35.32160321, -87.7133098 ,  74.25714506,\n",
       "       -11.73318151, -70.34260191,  29.33009845,   7.35925988,\n",
       "       -87.38792002, -73.11661006, -12.7761936 , -30.87935359,\n",
       "       -61.58583558,  77.81461784,  77.11247076,  50.99157761,\n",
       "        87.2110928 ,  12.31048305, -53.25448652,  40.19041568,\n",
       "       -44.81580078, -27.67502073, -89.72234248, -37.76452118,\n",
       "        83.66622012,  85.12667533, -40.28732156,   8.31934358,\n",
       "        86.06784619, -17.16059635,  -8.10393218, -66.11583263,\n",
       "       -45.17173057, -62.02016092, -58.49778585, -21.32229437,\n",
       "        56.94258548,  85.54075694, -78.48067835, -43.72473116,\n",
       "        40.81855663,  19.69909177, -73.21086894, -61.6588842 ,\n",
       "       -29.93399635,  58.97440325, -34.78126308,  10.7324038 ,\n",
       "       -59.31950733, -46.62920585])"
      ]
     },
     "execution_count": 9,
     "metadata": {},
     "output_type": "execute_result"
    }
   ],
   "source": [
    "np.random.uniform(-90.000, 90.000, size=50)"
   ]
  },
  {
   "cell_type": "code",
   "execution_count": 10,
   "id": "b03cf345",
   "metadata": {},
   "outputs": [],
   "source": [
    "# Import timeit\n",
    "\n",
    "import timeit"
   ]
  },
  {
   "cell_type": "code",
   "execution_count": 11,
   "id": "048a41ac",
   "metadata": {},
   "outputs": [
    {
     "name": "stdout",
     "output_type": "stream",
     "text": [
      "27.6 µs ± 6.1 µs per loop (mean ± std. dev. of 7 runs, 10000 loops each)\n"
     ]
    }
   ],
   "source": [
    "%timeit np.random.uniform(-90.000, 90.000, size=1500)"
   ]
  },
  {
   "cell_type": "code",
   "execution_count": 13,
   "id": "0ebff3c5",
   "metadata": {},
   "outputs": [
    {
     "name": "stdout",
     "output_type": "stream",
     "text": [
      "1.94 ms ± 73.9 µs per loop (mean ± std. dev. of 7 runs, 100 loops each)\n"
     ]
    }
   ],
   "source": [
    "def latitudes(size):\n",
    "    \n",
    "    latitudes = []\n",
    "    \n",
    "    x = 0\n",
    "    \n",
    "    while x < (size):\n",
    "        \n",
    "        random_lat = random.randint(-90, 90) + random.random()\n",
    "        \n",
    "        latitudes.append(random_lat)\n",
    "        \n",
    "        x += 1\n",
    "    \n",
    "    return latitudes\n",
    "\n",
    "# Call the function with 1500.\n",
    "\n",
    "%timeit latitudes(1500)"
   ]
  },
  {
   "cell_type": "code",
   "execution_count": null,
   "id": "b83b02bf",
   "metadata": {},
   "outputs": [],
   "source": []
  }
 ],
 "metadata": {
  "kernelspec": {
   "display_name": "PythonData",
   "language": "python",
   "name": "pythondata"
  },
  "language_info": {
   "codemirror_mode": {
    "name": "ipython",
    "version": 3
   },
   "file_extension": ".py",
   "mimetype": "text/x-python",
   "name": "python",
   "nbconvert_exporter": "python",
   "pygments_lexer": "ipython3",
   "version": "3.7.13"
  }
 },
 "nbformat": 4,
 "nbformat_minor": 5
}
